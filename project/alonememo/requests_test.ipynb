{
 "cells": [
  {
   "cell_type": "code",
   "execution_count": 2,
   "metadata": {
    "collapsed": true,
    "jupyter": {
     "outputs_hidden": true
    }
   },
   "outputs": [
    {
     "name": "stdout",
     "output_type": "stream",
     "text": [
      "1 아로하 조정석\n",
      "2 시작 가호 (Gaho)\n",
      "3 처음처럼 엠씨더맥스 (M.C the MAX)\n",
      "4 이제 나만 믿어요 임영웅\n",
      "5 아무노래 지코 (ZICO)\n",
      "6 흔들리는 꽃들 속에서 네 샴푸향이 느껴진거야 장범준\n",
      "7 뭔가 잘못됐어 권진아\n",
      "8 WANNABE ITZY (있지)\n",
      "9 돌덩이 하현우 (국카스텐)\n",
      "10 어떻게 지내 (Prod. by VAN.C) 오반\n",
      "11 METEOR 창모 (CHANGMO)\n",
      "12 화려하지 않은 고백 규현 (KYUHYUN)\n",
      "13 그때 그 아인 김필\n",
      "14 Blueming 아이유 (IU)\n",
      "15 문득 노을\n",
      "16 마음을 드려요 아이유 (IU)\n",
      "17 ON 방탄소년단\n",
      "18 늦은 밤 너의 집 앞 골목길에서 노을\n",
      "19 좋은 사람 있으면 소개시켜줘 조이 (JOY)\n",
      "20 뜸 WINNER\n",
      "21 Psycho Red Velvet (레드벨벳)\n",
      "22 FIESTA IZ*ONE (아이즈원)\n",
      "23 반만 진민호\n",
      "24 2002 Anne-Marie\n",
      "25 HIP 마마무(Mamamoo)\n",
      "26 오늘도 빛나는 너에게 (To You My Light) (Feat.이라온) 마크툽 (Maktub)\n",
      "27 어떻게 이별까지 사랑하겠어, 널 사랑하는 거지 AKMU (악동뮤지션)\n",
      "28 작은 것들을 위한 시 (Boy With Luv) (Feat. Halsey) 방탄소년단\n",
      "29 Memories Maroon 5\n",
      "30 Don't Start Now Dua Lipa\n",
      "31 안녕 폴킴\n",
      "32 다시 난, 여기 백예린\n",
      "33 모든 날, 모든 순간 (Every day, Every Moment) 폴킴\n",
      "34 Love poem 아이유 (IU)\n",
      "35 바빠서 (Feat. 헤이즈) 개코\n",
      "36 꽃 (flower) (Feat. 박재범 & 우원재 & 기리보이) 코드 쿤스트 (CODE KUNST)\n",
      "37 Square (2017) 백예린\n",
      "38 노래방에서 장범준\n",
      "39 bad guy Billie Eilish\n",
      "40 조금 취했어 (Prod. by 2soo) 임재현\n",
      "41 잘 지내고 있는지 궁금해 V.O.S\n",
      "42 시든 꽃에 물을 주듯 HYNN (박혜원)\n",
      "43 새로고침 (Feat. 강민경 of 다비치) 박경\n",
      "44 사랑이란 멜로는 없어 전상근\n",
      "45 벚꽃 엔딩 버스커 버스커 (Busker Busker)\n",
      "46 우리 왜 헤어져야 해 신예영\n",
      "47 사랑의 인사 씨야 (SeeYa)\n",
      "48 아무렇지 않게, 안녕 HYNN (박혜원)\n",
      "49 Paris In The Rain Lauv\n",
      "50 주저하는 연인들을 위해 잔나비\n"
     ]
    }
   ],
   "source": [
    "import requests\n",
    "from bs4 import BeautifulSoup\n",
    "\n",
    "headers = {'User-Agent' : 'Mozilla/5.0 (Windows NT 10.0; Win64; x64)AppleWebKit/537.36 (KHTML, like Gecko) Chrome/73.0.3683.86 Safari/537.36'}\n",
    "data = requests.get('https://www.genie.co.kr/chart/top200?ditc=D&ymd=20200403&hh=23&rtm=N&pg=1',headers=headers)\n",
    "soup = BeautifulSoup(data.text, 'html.parser')\n",
    "\n",
    "tags = soup.select('#body-content > div.newest-list > div > table > tbody > tr')\n",
    "\n",
    "# rank = 0\n",
    "for tag in tags:\n",
    "    title = tag.select_one('td.info > a.title.ellipsis').string.strip()\n",
    "    if title is not None:\n",
    "#         rank += 1\n",
    "        rank = tag.select_one('td.number').text.split()[0]\n",
    "        artist = tag.select_one('td.info > a.artist.ellipsis').string.strip()\n",
    "        print(rank, title, artist)"
   ]
  },
  {
   "cell_type": "code",
   "execution_count": 6,
   "metadata": {},
   "outputs": [
    {
     "name": "stdout",
     "output_type": "stream",
     "text": [
      "https://movie-phinf.pstatic.net/20200604_287/1591247101011RnPbV_JPEG/movie_image.jpg?type=m665_443_2\n",
      "침입자\n",
      "얼마 전 사고로 아내를 잃고 실의에 빠져 있는 건축가 ‘서진’에게25년 전 실종된 동생을 찾았다는 연...\n"
     ]
    }
   ],
   "source": [
    "import requests\n",
    "from bs4 import BeautifulSoup\n",
    "\n",
    "headers = {'User-Agent' : 'Mozilla/5.0 (Windows NT 10.0; Win64; x64)AppleWebKit/537.36 (KHTML, like Gecko) Chrome/73.0.3683.86 Safari/537.36'}\n",
    "data = requests.get('https://movie.naver.com/movie/bi/mi/basic.nhn?code=182835',headers=headers)\n",
    "soup = BeautifulSoup(data.text, 'html.parser')\n",
    "\n",
    "url_image = og_image['content']\n",
    "url_title = og_title['content']\n",
    "url_description = og_description['content']\n",
    "\n",
    "print(url_image)\n",
    "print(url_title)\n",
    "print(url_description)"
   ]
  },
  {
   "cell_type": "code",
   "execution_count": null,
   "metadata": {},
   "outputs": [],
   "source": []
  }
 ],
 "metadata": {
  "kernelspec": {
   "display_name": "Python 3",
   "language": "python",
   "name": "python3"
  },
  "language_info": {
   "codemirror_mode": {
    "name": "ipython",
    "version": 3
   },
   "file_extension": ".py",
   "mimetype": "text/x-python",
   "name": "python",
   "nbconvert_exporter": "python",
   "pygments_lexer": "ipython3",
   "version": "3.7.2"
  }
 },
 "nbformat": 4,
 "nbformat_minor": 4
}
